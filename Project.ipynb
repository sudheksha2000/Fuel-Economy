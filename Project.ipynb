{
 "cells": [
  {
   "cell_type": "code",
   "execution_count": 1,
   "id": "07a8632f",
   "metadata": {},
   "outputs": [],
   "source": [
    "import pandas as pd\n",
    "import numpy as np"
   ]
  },
  {
   "cell_type": "code",
   "execution_count": 2,
   "id": "e31f117c",
   "metadata": {},
   "outputs": [],
   "source": [
    "#import the file csv\n",
    "df = pd.read_csv('all_alpha_08.csv')"
   ]
  },
  {
   "cell_type": "markdown",
   "id": "a2e6c76b",
   "metadata": {},
   "source": [
    " df is the record vehicles in 2008"
   ]
  },
  {
   "cell_type": "code",
   "execution_count": 3,
   "id": "10e750da",
   "metadata": {},
   "outputs": [
    {
     "data": {
      "text/plain": [
       "(2404, 18)"
      ]
     },
     "execution_count": 3,
     "metadata": {},
     "output_type": "execute_result"
    }
   ],
   "source": [
    "#shape\n",
    "df.shape"
   ]
  },
  {
   "cell_type": "code",
   "execution_count": 3,
   "id": "82c9ec15",
   "metadata": {},
   "outputs": [],
   "source": [
    "#import the file\n",
    "df1 = pd.read_csv('all_alpha_18.csv')"
   ]
  },
  {
   "cell_type": "markdown",
   "id": "1a4fa60f",
   "metadata": {},
   "source": [
    "df1 is the record of 2018"
   ]
  },
  {
   "cell_type": "code",
   "execution_count": 5,
   "id": "2eba249c",
   "metadata": {},
   "outputs": [
    {
     "data": {
      "text/plain": [
       "(1611, 18)"
      ]
     },
     "execution_count": 5,
     "metadata": {},
     "output_type": "execute_result"
    }
   ],
   "source": [
    "#shape\n",
    "df1.shape"
   ]
  },
  {
   "cell_type": "code",
   "execution_count": 6,
   "id": "c4819919",
   "metadata": {},
   "outputs": [
    {
     "data": {
      "text/html": [
       "<div>\n",
       "<style scoped>\n",
       "    .dataframe tbody tr th:only-of-type {\n",
       "        vertical-align: middle;\n",
       "    }\n",
       "\n",
       "    .dataframe tbody tr th {\n",
       "        vertical-align: top;\n",
       "    }\n",
       "\n",
       "    .dataframe thead th {\n",
       "        text-align: right;\n",
       "    }\n",
       "</style>\n",
       "<table border=\"1\" class=\"dataframe\">\n",
       "  <thead>\n",
       "    <tr style=\"text-align: right;\">\n",
       "      <th></th>\n",
       "      <th>Model</th>\n",
       "      <th>Displ</th>\n",
       "      <th>Cyl</th>\n",
       "      <th>Trans</th>\n",
       "      <th>Drive</th>\n",
       "      <th>Fuel</th>\n",
       "      <th>Sales Area</th>\n",
       "      <th>Stnd</th>\n",
       "      <th>Underhood ID</th>\n",
       "      <th>Veh Class</th>\n",
       "      <th>Air Pollution Score</th>\n",
       "      <th>FE Calc Appr</th>\n",
       "      <th>City MPG</th>\n",
       "      <th>Hwy MPG</th>\n",
       "      <th>Cmb MPG</th>\n",
       "      <th>Unadj Cmb MPG</th>\n",
       "      <th>Greenhouse Gas Score</th>\n",
       "      <th>SmartWay</th>\n",
       "    </tr>\n",
       "  </thead>\n",
       "  <tbody>\n",
       "    <tr>\n",
       "      <th>0</th>\n",
       "      <td>ACURA MDX</td>\n",
       "      <td>3.7</td>\n",
       "      <td>(6 cyl)</td>\n",
       "      <td>Auto-S5</td>\n",
       "      <td>4WD</td>\n",
       "      <td>Gasoline</td>\n",
       "      <td>CA</td>\n",
       "      <td>U2</td>\n",
       "      <td>8HNXT03.7PKR</td>\n",
       "      <td>SUV</td>\n",
       "      <td>7</td>\n",
       "      <td>Drv</td>\n",
       "      <td>15</td>\n",
       "      <td>20</td>\n",
       "      <td>17</td>\n",
       "      <td>22.0527</td>\n",
       "      <td>4</td>\n",
       "      <td>no</td>\n",
       "    </tr>\n",
       "    <tr>\n",
       "      <th>1</th>\n",
       "      <td>ACURA MDX</td>\n",
       "      <td>3.7</td>\n",
       "      <td>(6 cyl)</td>\n",
       "      <td>Auto-S5</td>\n",
       "      <td>4WD</td>\n",
       "      <td>Gasoline</td>\n",
       "      <td>FA</td>\n",
       "      <td>B5</td>\n",
       "      <td>8HNXT03.7PKR</td>\n",
       "      <td>SUV</td>\n",
       "      <td>6</td>\n",
       "      <td>Drv</td>\n",
       "      <td>15</td>\n",
       "      <td>20</td>\n",
       "      <td>17</td>\n",
       "      <td>22.0527</td>\n",
       "      <td>4</td>\n",
       "      <td>no</td>\n",
       "    </tr>\n",
       "    <tr>\n",
       "      <th>2</th>\n",
       "      <td>ACURA RDX</td>\n",
       "      <td>2.3</td>\n",
       "      <td>(4 cyl)</td>\n",
       "      <td>Auto-S5</td>\n",
       "      <td>4WD</td>\n",
       "      <td>Gasoline</td>\n",
       "      <td>CA</td>\n",
       "      <td>U2</td>\n",
       "      <td>8HNXT02.3DKR</td>\n",
       "      <td>SUV</td>\n",
       "      <td>7</td>\n",
       "      <td>Drv</td>\n",
       "      <td>17</td>\n",
       "      <td>22</td>\n",
       "      <td>19</td>\n",
       "      <td>24.1745</td>\n",
       "      <td>5</td>\n",
       "      <td>no</td>\n",
       "    </tr>\n",
       "    <tr>\n",
       "      <th>3</th>\n",
       "      <td>ACURA RDX</td>\n",
       "      <td>2.3</td>\n",
       "      <td>(4 cyl)</td>\n",
       "      <td>Auto-S5</td>\n",
       "      <td>4WD</td>\n",
       "      <td>Gasoline</td>\n",
       "      <td>FA</td>\n",
       "      <td>B5</td>\n",
       "      <td>8HNXT02.3DKR</td>\n",
       "      <td>SUV</td>\n",
       "      <td>6</td>\n",
       "      <td>Drv</td>\n",
       "      <td>17</td>\n",
       "      <td>22</td>\n",
       "      <td>19</td>\n",
       "      <td>24.1745</td>\n",
       "      <td>5</td>\n",
       "      <td>no</td>\n",
       "    </tr>\n",
       "    <tr>\n",
       "      <th>4</th>\n",
       "      <td>ACURA RL</td>\n",
       "      <td>3.5</td>\n",
       "      <td>(6 cyl)</td>\n",
       "      <td>Auto-S5</td>\n",
       "      <td>4WD</td>\n",
       "      <td>Gasoline</td>\n",
       "      <td>CA</td>\n",
       "      <td>U2</td>\n",
       "      <td>8HNXV03.5HKR</td>\n",
       "      <td>midsize car</td>\n",
       "      <td>7</td>\n",
       "      <td>Drv</td>\n",
       "      <td>16</td>\n",
       "      <td>24</td>\n",
       "      <td>19</td>\n",
       "      <td>24.5629</td>\n",
       "      <td>5</td>\n",
       "      <td>no</td>\n",
       "    </tr>\n",
       "  </tbody>\n",
       "</table>\n",
       "</div>"
      ],
      "text/plain": [
       "       Model  Displ      Cyl    Trans Drive      Fuel Sales Area Stnd  \\\n",
       "0  ACURA MDX    3.7  (6 cyl)  Auto-S5   4WD  Gasoline         CA   U2   \n",
       "1  ACURA MDX    3.7  (6 cyl)  Auto-S5   4WD  Gasoline         FA   B5   \n",
       "2  ACURA RDX    2.3  (4 cyl)  Auto-S5   4WD  Gasoline         CA   U2   \n",
       "3  ACURA RDX    2.3  (4 cyl)  Auto-S5   4WD  Gasoline         FA   B5   \n",
       "4   ACURA RL    3.5  (6 cyl)  Auto-S5   4WD  Gasoline         CA   U2   \n",
       "\n",
       "   Underhood ID    Veh Class Air Pollution Score FE Calc Appr City MPG  \\\n",
       "0  8HNXT03.7PKR          SUV                   7          Drv       15   \n",
       "1  8HNXT03.7PKR          SUV                   6          Drv       15   \n",
       "2  8HNXT02.3DKR          SUV                   7          Drv       17   \n",
       "3  8HNXT02.3DKR          SUV                   6          Drv       17   \n",
       "4  8HNXV03.5HKR  midsize car                   7          Drv       16   \n",
       "\n",
       "  Hwy MPG Cmb MPG  Unadj Cmb MPG Greenhouse Gas Score SmartWay  \n",
       "0      20      17        22.0527                    4       no  \n",
       "1      20      17        22.0527                    4       no  \n",
       "2      22      19        24.1745                    5       no  \n",
       "3      22      19        24.1745                    5       no  \n",
       "4      24      19        24.5629                    5       no  "
      ]
     },
     "execution_count": 6,
     "metadata": {},
     "output_type": "execute_result"
    }
   ],
   "source": [
    "#top 5 row and all columns\n",
    "df.head()"
   ]
  },
  {
   "cell_type": "code",
   "execution_count": 7,
   "id": "2174574e",
   "metadata": {},
   "outputs": [
    {
     "data": {
      "text/html": [
       "<div>\n",
       "<style scoped>\n",
       "    .dataframe tbody tr th:only-of-type {\n",
       "        vertical-align: middle;\n",
       "    }\n",
       "\n",
       "    .dataframe tbody tr th {\n",
       "        vertical-align: top;\n",
       "    }\n",
       "\n",
       "    .dataframe thead th {\n",
       "        text-align: right;\n",
       "    }\n",
       "</style>\n",
       "<table border=\"1\" class=\"dataframe\">\n",
       "  <thead>\n",
       "    <tr style=\"text-align: right;\">\n",
       "      <th></th>\n",
       "      <th>Model</th>\n",
       "      <th>Displ</th>\n",
       "      <th>Cyl</th>\n",
       "      <th>Trans</th>\n",
       "      <th>Drive</th>\n",
       "      <th>Fuel</th>\n",
       "      <th>Cert Region</th>\n",
       "      <th>Stnd</th>\n",
       "      <th>Stnd Description</th>\n",
       "      <th>Underhood ID</th>\n",
       "      <th>Veh Class</th>\n",
       "      <th>Air Pollution Score</th>\n",
       "      <th>City MPG</th>\n",
       "      <th>Hwy MPG</th>\n",
       "      <th>Cmb MPG</th>\n",
       "      <th>Greenhouse Gas Score</th>\n",
       "      <th>SmartWay</th>\n",
       "      <th>Comb CO2</th>\n",
       "    </tr>\n",
       "  </thead>\n",
       "  <tbody>\n",
       "    <tr>\n",
       "      <th>0</th>\n",
       "      <td>ACURA RDX</td>\n",
       "      <td>3.5</td>\n",
       "      <td>6.0</td>\n",
       "      <td>SemiAuto-6</td>\n",
       "      <td>2WD</td>\n",
       "      <td>Gasoline</td>\n",
       "      <td>FA</td>\n",
       "      <td>T3B125</td>\n",
       "      <td>Federal Tier 3 Bin 125</td>\n",
       "      <td>JHNXT03.5GV3</td>\n",
       "      <td>small SUV</td>\n",
       "      <td>3</td>\n",
       "      <td>20</td>\n",
       "      <td>28</td>\n",
       "      <td>23</td>\n",
       "      <td>5</td>\n",
       "      <td>No</td>\n",
       "      <td>386</td>\n",
       "    </tr>\n",
       "    <tr>\n",
       "      <th>1</th>\n",
       "      <td>ACURA RDX</td>\n",
       "      <td>3.5</td>\n",
       "      <td>6.0</td>\n",
       "      <td>SemiAuto-6</td>\n",
       "      <td>2WD</td>\n",
       "      <td>Gasoline</td>\n",
       "      <td>CA</td>\n",
       "      <td>U2</td>\n",
       "      <td>California LEV-II ULEV</td>\n",
       "      <td>JHNXT03.5GV3</td>\n",
       "      <td>small SUV</td>\n",
       "      <td>3</td>\n",
       "      <td>20</td>\n",
       "      <td>28</td>\n",
       "      <td>23</td>\n",
       "      <td>5</td>\n",
       "      <td>No</td>\n",
       "      <td>386</td>\n",
       "    </tr>\n",
       "    <tr>\n",
       "      <th>2</th>\n",
       "      <td>ACURA RDX</td>\n",
       "      <td>3.5</td>\n",
       "      <td>6.0</td>\n",
       "      <td>SemiAuto-6</td>\n",
       "      <td>4WD</td>\n",
       "      <td>Gasoline</td>\n",
       "      <td>FA</td>\n",
       "      <td>T3B125</td>\n",
       "      <td>Federal Tier 3 Bin 125</td>\n",
       "      <td>JHNXT03.5GV3</td>\n",
       "      <td>small SUV</td>\n",
       "      <td>3</td>\n",
       "      <td>19</td>\n",
       "      <td>27</td>\n",
       "      <td>22</td>\n",
       "      <td>4</td>\n",
       "      <td>No</td>\n",
       "      <td>402</td>\n",
       "    </tr>\n",
       "    <tr>\n",
       "      <th>3</th>\n",
       "      <td>ACURA RDX</td>\n",
       "      <td>3.5</td>\n",
       "      <td>6.0</td>\n",
       "      <td>SemiAuto-6</td>\n",
       "      <td>4WD</td>\n",
       "      <td>Gasoline</td>\n",
       "      <td>CA</td>\n",
       "      <td>U2</td>\n",
       "      <td>California LEV-II ULEV</td>\n",
       "      <td>JHNXT03.5GV3</td>\n",
       "      <td>small SUV</td>\n",
       "      <td>3</td>\n",
       "      <td>19</td>\n",
       "      <td>27</td>\n",
       "      <td>22</td>\n",
       "      <td>4</td>\n",
       "      <td>No</td>\n",
       "      <td>402</td>\n",
       "    </tr>\n",
       "    <tr>\n",
       "      <th>4</th>\n",
       "      <td>ACURA TLX</td>\n",
       "      <td>2.4</td>\n",
       "      <td>4.0</td>\n",
       "      <td>AMS-8</td>\n",
       "      <td>2WD</td>\n",
       "      <td>Gasoline</td>\n",
       "      <td>CA</td>\n",
       "      <td>L3ULEV125</td>\n",
       "      <td>California LEV-III ULEV125</td>\n",
       "      <td>JHNXV02.4WH3</td>\n",
       "      <td>small car</td>\n",
       "      <td>3</td>\n",
       "      <td>23</td>\n",
       "      <td>33</td>\n",
       "      <td>27</td>\n",
       "      <td>6</td>\n",
       "      <td>No</td>\n",
       "      <td>330</td>\n",
       "    </tr>\n",
       "  </tbody>\n",
       "</table>\n",
       "</div>"
      ],
      "text/plain": [
       "       Model  Displ  Cyl       Trans Drive      Fuel Cert Region       Stnd  \\\n",
       "0  ACURA RDX    3.5  6.0  SemiAuto-6   2WD  Gasoline          FA     T3B125   \n",
       "1  ACURA RDX    3.5  6.0  SemiAuto-6   2WD  Gasoline          CA         U2   \n",
       "2  ACURA RDX    3.5  6.0  SemiAuto-6   4WD  Gasoline          FA     T3B125   \n",
       "3  ACURA RDX    3.5  6.0  SemiAuto-6   4WD  Gasoline          CA         U2   \n",
       "4  ACURA TLX    2.4  4.0       AMS-8   2WD  Gasoline          CA  L3ULEV125   \n",
       "\n",
       "             Stnd Description  Underhood ID  Veh Class  Air Pollution Score  \\\n",
       "0      Federal Tier 3 Bin 125  JHNXT03.5GV3  small SUV                    3   \n",
       "1      California LEV-II ULEV  JHNXT03.5GV3  small SUV                    3   \n",
       "2      Federal Tier 3 Bin 125  JHNXT03.5GV3  small SUV                    3   \n",
       "3      California LEV-II ULEV  JHNXT03.5GV3  small SUV                    3   \n",
       "4  California LEV-III ULEV125  JHNXV02.4WH3  small car                    3   \n",
       "\n",
       "  City MPG Hwy MPG Cmb MPG  Greenhouse Gas Score SmartWay Comb CO2  \n",
       "0       20      28      23                     5       No      386  \n",
       "1       20      28      23                     5       No      386  \n",
       "2       19      27      22                     4       No      402  \n",
       "3       19      27      22                     4       No      402  \n",
       "4       23      33      27                     6       No      330  "
      ]
     },
     "execution_count": 7,
     "metadata": {},
     "output_type": "execute_result"
    }
   ],
   "source": [
    "#top 5 rows and all columns\n",
    "df1.head()"
   ]
  },
  {
   "cell_type": "markdown",
   "id": "62df2a31",
   "metadata": {},
   "source": [
    "### Wrangle data"
   ]
  },
  {
   "cell_type": "code",
   "execution_count": 8,
   "id": "b0a85e01",
   "metadata": {},
   "outputs": [
    {
     "data": {
      "text/plain": [
       "Model                     0\n",
       "Displ                     0\n",
       "Cyl                     199\n",
       "Trans                   199\n",
       "Drive                    93\n",
       "Fuel                      0\n",
       "Sales Area                0\n",
       "Stnd                      0\n",
       "Underhood ID              0\n",
       "Veh Class                 0\n",
       "Air Pollution Score       0\n",
       "FE Calc Appr            199\n",
       "City MPG                199\n",
       "Hwy MPG                 199\n",
       "Cmb MPG                 199\n",
       "Unadj Cmb MPG           199\n",
       "Greenhouse Gas Score    199\n",
       "SmartWay                  0\n",
       "dtype: int64"
      ]
     },
     "execution_count": 8,
     "metadata": {},
     "output_type": "execute_result"
    }
   ],
   "source": [
    "#no of null values in each columns\n",
    "df.isnull().sum()"
   ]
  },
  {
   "cell_type": "code",
   "execution_count": 9,
   "id": "8fe558c3",
   "metadata": {},
   "outputs": [
    {
     "data": {
      "text/plain": [
       "Model                    object\n",
       "Displ                   float64\n",
       "Cyl                      object\n",
       "Trans                    object\n",
       "Drive                    object\n",
       "Fuel                     object\n",
       "Sales Area               object\n",
       "Stnd                     object\n",
       "Underhood ID             object\n",
       "Veh Class                object\n",
       "Air Pollution Score      object\n",
       "FE Calc Appr             object\n",
       "City MPG                 object\n",
       "Hwy MPG                  object\n",
       "Cmb MPG                  object\n",
       "Unadj Cmb MPG           float64\n",
       "Greenhouse Gas Score     object\n",
       "SmartWay                 object\n",
       "dtype: object"
      ]
     },
     "execution_count": 9,
     "metadata": {},
     "output_type": "execute_result"
    }
   ],
   "source": [
    "#data types of each columns\n",
    "df.dtypes"
   ]
  },
  {
   "cell_type": "code",
   "execution_count": 10,
   "id": "64453880",
   "metadata": {},
   "outputs": [
    {
     "data": {
      "text/plain": [
       "Model                   0\n",
       "Displ                   2\n",
       "Cyl                     2\n",
       "Trans                   0\n",
       "Drive                   0\n",
       "Fuel                    0\n",
       "Cert Region             0\n",
       "Stnd                    0\n",
       "Stnd Description        0\n",
       "Underhood ID            0\n",
       "Veh Class               0\n",
       "Air Pollution Score     0\n",
       "City MPG                0\n",
       "Hwy MPG                 0\n",
       "Cmb MPG                 0\n",
       "Greenhouse Gas Score    0\n",
       "SmartWay                0\n",
       "Comb CO2                0\n",
       "dtype: int64"
      ]
     },
     "execution_count": 10,
     "metadata": {},
     "output_type": "execute_result"
    }
   ],
   "source": [
    "#no of null values\n",
    "df1.isnull().sum()"
   ]
  },
  {
   "cell_type": "code",
   "execution_count": 11,
   "id": "c60cfa62",
   "metadata": {},
   "outputs": [
    {
     "data": {
      "text/plain": [
       "Model                    object\n",
       "Displ                   float64\n",
       "Cyl                     float64\n",
       "Trans                    object\n",
       "Drive                    object\n",
       "Fuel                     object\n",
       "Cert Region              object\n",
       "Stnd                     object\n",
       "Stnd Description         object\n",
       "Underhood ID             object\n",
       "Veh Class                object\n",
       "Air Pollution Score       int64\n",
       "City MPG                 object\n",
       "Hwy MPG                  object\n",
       "Cmb MPG                  object\n",
       "Greenhouse Gas Score      int64\n",
       "SmartWay                 object\n",
       "Comb CO2                 object\n",
       "dtype: object"
      ]
     },
     "execution_count": 11,
     "metadata": {},
     "output_type": "execute_result"
    }
   ],
   "source": [
    "#data types of each columns\n",
    "df1.dtypes"
   ]
  },
  {
   "cell_type": "markdown",
   "id": "407dcc13",
   "metadata": {},
   "source": [
    "### Assess and Clean data "
   ]
  },
  {
   "cell_type": "code",
   "execution_count": 12,
   "id": "5aced47f",
   "metadata": {},
   "outputs": [
    {
     "data": {
      "text/html": [
       "<div>\n",
       "<style scoped>\n",
       "    .dataframe tbody tr th:only-of-type {\n",
       "        vertical-align: middle;\n",
       "    }\n",
       "\n",
       "    .dataframe tbody tr th {\n",
       "        vertical-align: top;\n",
       "    }\n",
       "\n",
       "    .dataframe thead th {\n",
       "        text-align: right;\n",
       "    }\n",
       "</style>\n",
       "<table border=\"1\" class=\"dataframe\">\n",
       "  <thead>\n",
       "    <tr style=\"text-align: right;\">\n",
       "      <th></th>\n",
       "      <th>Cyl</th>\n",
       "      <th>Trans</th>\n",
       "      <th>Drive</th>\n",
       "    </tr>\n",
       "  </thead>\n",
       "  <tbody>\n",
       "    <tr>\n",
       "      <th>count</th>\n",
       "      <td>2205</td>\n",
       "      <td>2205</td>\n",
       "      <td>2311</td>\n",
       "    </tr>\n",
       "    <tr>\n",
       "      <th>unique</th>\n",
       "      <td>8</td>\n",
       "      <td>14</td>\n",
       "      <td>2</td>\n",
       "    </tr>\n",
       "    <tr>\n",
       "      <th>top</th>\n",
       "      <td>(6 cyl)</td>\n",
       "      <td>Auto-L4</td>\n",
       "      <td>2WD</td>\n",
       "    </tr>\n",
       "    <tr>\n",
       "      <th>freq</th>\n",
       "      <td>864</td>\n",
       "      <td>502</td>\n",
       "      <td>1525</td>\n",
       "    </tr>\n",
       "  </tbody>\n",
       "</table>\n",
       "</div>"
      ],
      "text/plain": [
       "            Cyl    Trans Drive\n",
       "count      2205     2205  2311\n",
       "unique        8       14     2\n",
       "top     (6 cyl)  Auto-L4   2WD\n",
       "freq        864      502  1525"
      ]
     },
     "execution_count": 12,
     "metadata": {},
     "output_type": "execute_result"
    }
   ],
   "source": [
    "#describe the cyl and trans \n",
    "df[['Cyl','Trans','Drive']].describe()"
   ]
  },
  {
   "cell_type": "code",
   "execution_count": 13,
   "id": "4016a3cc",
   "metadata": {},
   "outputs": [
    {
     "data": {
      "text/html": [
       "<div>\n",
       "<style scoped>\n",
       "    .dataframe tbody tr th:only-of-type {\n",
       "        vertical-align: middle;\n",
       "    }\n",
       "\n",
       "    .dataframe tbody tr th {\n",
       "        vertical-align: top;\n",
       "    }\n",
       "\n",
       "    .dataframe thead th {\n",
       "        text-align: right;\n",
       "    }\n",
       "</style>\n",
       "<table border=\"1\" class=\"dataframe\">\n",
       "  <thead>\n",
       "    <tr style=\"text-align: right;\">\n",
       "      <th></th>\n",
       "      <th>FE Calc Appr</th>\n",
       "      <th>City MPG</th>\n",
       "      <th>Hwy MPG</th>\n",
       "      <th>Cmb MPG</th>\n",
       "      <th>Greenhouse Gas Score</th>\n",
       "    </tr>\n",
       "  </thead>\n",
       "  <tbody>\n",
       "    <tr>\n",
       "      <th>count</th>\n",
       "      <td>2205</td>\n",
       "      <td>2205</td>\n",
       "      <td>2205</td>\n",
       "      <td>2205</td>\n",
       "      <td>2205</td>\n",
       "    </tr>\n",
       "    <tr>\n",
       "      <th>unique</th>\n",
       "      <td>2</td>\n",
       "      <td>39</td>\n",
       "      <td>43</td>\n",
       "      <td>38</td>\n",
       "      <td>20</td>\n",
       "    </tr>\n",
       "    <tr>\n",
       "      <th>top</th>\n",
       "      <td>Drv</td>\n",
       "      <td>17</td>\n",
       "      <td>24</td>\n",
       "      <td>20</td>\n",
       "      <td>6</td>\n",
       "    </tr>\n",
       "    <tr>\n",
       "      <th>freq</th>\n",
       "      <td>2175</td>\n",
       "      <td>233</td>\n",
       "      <td>241</td>\n",
       "      <td>215</td>\n",
       "      <td>589</td>\n",
       "    </tr>\n",
       "  </tbody>\n",
       "</table>\n",
       "</div>"
      ],
      "text/plain": [
       "       FE Calc Appr City MPG Hwy MPG Cmb MPG Greenhouse Gas Score\n",
       "count          2205     2205    2205    2205                 2205\n",
       "unique            2       39      43      38                   20\n",
       "top             Drv       17      24      20                    6\n",
       "freq           2175      233     241     215                  589"
      ]
     },
     "execution_count": 13,
     "metadata": {},
     "output_type": "execute_result"
    }
   ],
   "source": [
    "#describe the given colunms \n",
    "df[['FE Calc Appr','City MPG','Hwy MPG','Cmb MPG','Greenhouse Gas Score']].describe(include='object')"
   ]
  },
  {
   "cell_type": "code",
   "execution_count": 14,
   "id": "6cdef508",
   "metadata": {},
   "outputs": [
    {
     "data": {
      "text/plain": [
       "count    2205.000000\n",
       "mean       23.916104\n",
       "std         6.366170\n",
       "min        10.018400\n",
       "25%        19.113900\n",
       "50%        23.921300\n",
       "75%        27.869300\n",
       "max        65.777800\n",
       "Name: Unadj Cmb MPG, dtype: float64"
      ]
     },
     "execution_count": 14,
     "metadata": {},
     "output_type": "execute_result"
    }
   ],
   "source": [
    "#describe\n",
    "df['Unadj Cmb MPG'].describe()"
   ]
  },
  {
   "cell_type": "code",
   "execution_count": 4,
   "id": "6395fa37",
   "metadata": {},
   "outputs": [],
   "source": [
    "#filling the null values\n",
    "df['Cyl'].fillna('(6 cyl)' , inplace=True)\n",
    "df['Trans'].fillna(\"Auto-L4\" , inplace=True)\n",
    "df['FE Calc Appr'].fillna('Drv',inplace=True)\n",
    "df['Unadj Cmb MPG'].fillna(df['Unadj Cmb MPG'].mean(),inplace=True)\n",
    "df['Drive'].fillna('2WD',inplace=True)"
   ]
  },
  {
   "cell_type": "code",
   "execution_count": 7,
   "id": "34da343e",
   "metadata": {},
   "outputs": [
    {
     "data": {
      "text/plain": [
       "Model                     0\n",
       "Displ                     0\n",
       "Cyl                       0\n",
       "Trans                     0\n",
       "Drive                     0\n",
       "Fuel                      0\n",
       "Sales Area                0\n",
       "Stnd                      0\n",
       "Underhood ID              0\n",
       "Veh Class                 0\n",
       "Air Pollution Score       0\n",
       "FE Calc Appr              0\n",
       "City MPG                199\n",
       "Hwy MPG                 199\n",
       "Cmb MPG                 199\n",
       "Unadj Cmb MPG             0\n",
       "Greenhouse Gas Score    199\n",
       "SmartWay                  0\n",
       "dtype: int64"
      ]
     },
     "execution_count": 7,
     "metadata": {},
     "output_type": "execute_result"
    }
   ],
   "source": [
    "df.isnull().sum()"
   ]
  },
  {
   "cell_type": "code",
   "execution_count": 8,
   "id": "36dfff59",
   "metadata": {},
   "outputs": [
    {
     "data": {
      "text/html": [
       "<div>\n",
       "<style scoped>\n",
       "    .dataframe tbody tr th:only-of-type {\n",
       "        vertical-align: middle;\n",
       "    }\n",
       "\n",
       "    .dataframe tbody tr th {\n",
       "        vertical-align: top;\n",
       "    }\n",
       "\n",
       "    .dataframe thead th {\n",
       "        text-align: right;\n",
       "    }\n",
       "</style>\n",
       "<table border=\"1\" class=\"dataframe\">\n",
       "  <thead>\n",
       "    <tr style=\"text-align: right;\">\n",
       "      <th></th>\n",
       "      <th>Displ</th>\n",
       "      <th>Cyl</th>\n",
       "    </tr>\n",
       "  </thead>\n",
       "  <tbody>\n",
       "    <tr>\n",
       "      <th>count</th>\n",
       "      <td>1609.000000</td>\n",
       "      <td>1609.000000</td>\n",
       "    </tr>\n",
       "    <tr>\n",
       "      <th>mean</th>\n",
       "      <td>3.055687</td>\n",
       "      <td>5.479180</td>\n",
       "    </tr>\n",
       "    <tr>\n",
       "      <th>std</th>\n",
       "      <td>1.344574</td>\n",
       "      <td>1.749121</td>\n",
       "    </tr>\n",
       "    <tr>\n",
       "      <th>min</th>\n",
       "      <td>1.200000</td>\n",
       "      <td>3.000000</td>\n",
       "    </tr>\n",
       "    <tr>\n",
       "      <th>25%</th>\n",
       "      <td>2.000000</td>\n",
       "      <td>4.000000</td>\n",
       "    </tr>\n",
       "    <tr>\n",
       "      <th>50%</th>\n",
       "      <td>3.000000</td>\n",
       "      <td>6.000000</td>\n",
       "    </tr>\n",
       "    <tr>\n",
       "      <th>75%</th>\n",
       "      <td>3.600000</td>\n",
       "      <td>6.000000</td>\n",
       "    </tr>\n",
       "    <tr>\n",
       "      <th>max</th>\n",
       "      <td>8.000000</td>\n",
       "      <td>16.000000</td>\n",
       "    </tr>\n",
       "  </tbody>\n",
       "</table>\n",
       "</div>"
      ],
      "text/plain": [
       "             Displ          Cyl\n",
       "count  1609.000000  1609.000000\n",
       "mean      3.055687     5.479180\n",
       "std       1.344574     1.749121\n",
       "min       1.200000     3.000000\n",
       "25%       2.000000     4.000000\n",
       "50%       3.000000     6.000000\n",
       "75%       3.600000     6.000000\n",
       "max       8.000000    16.000000"
      ]
     },
     "execution_count": 8,
     "metadata": {},
     "output_type": "execute_result"
    }
   ],
   "source": [
    "df1[['Displ','Cyl']].describe()"
   ]
  },
  {
   "cell_type": "code",
   "execution_count": 5,
   "id": "82428ce6",
   "metadata": {},
   "outputs": [],
   "source": [
    "#fillinf the null values\n",
    "df1['Displ'].fillna(df1['Displ'].mean(),inplace=True)\n",
    "df1['Cyl'].fillna(df1['Cyl'].mean(),inplace=True)"
   ]
  },
  {
   "cell_type": "code",
   "execution_count": 10,
   "id": "cb69ba84",
   "metadata": {},
   "outputs": [
    {
     "data": {
      "text/plain": [
       "Model                   0\n",
       "Displ                   0\n",
       "Cyl                     0\n",
       "Trans                   0\n",
       "Drive                   0\n",
       "Fuel                    0\n",
       "Cert Region             0\n",
       "Stnd                    0\n",
       "Stnd Description        0\n",
       "Underhood ID            0\n",
       "Veh Class               0\n",
       "Air Pollution Score     0\n",
       "City MPG                0\n",
       "Hwy MPG                 0\n",
       "Cmb MPG                 0\n",
       "Greenhouse Gas Score    0\n",
       "SmartWay                0\n",
       "Comb CO2                0\n",
       "dtype: int64"
      ]
     },
     "execution_count": 10,
     "metadata": {},
     "output_type": "execute_result"
    }
   ],
   "source": [
    "df1.isnull().sum()"
   ]
  },
  {
   "cell_type": "code",
   "execution_count": 6,
   "id": "82626659",
   "metadata": {},
   "outputs": [
    {
     "data": {
      "text/plain": [
       "25"
      ]
     },
     "execution_count": 6,
     "metadata": {},
     "output_type": "execute_result"
    }
   ],
   "source": [
    "#check if their is duplicate or not\n",
    "df.duplicated().sum()"
   ]
  },
  {
   "cell_type": "code",
   "execution_count": 7,
   "id": "d8f03a29",
   "metadata": {},
   "outputs": [
    {
     "data": {
      "text/plain": [
       "0"
      ]
     },
     "execution_count": 7,
     "metadata": {},
     "output_type": "execute_result"
    }
   ],
   "source": [
    "#drop that \n",
    "df.drop_duplicates(inplace=True)\n",
    "#check again\n",
    "df.duplicated().sum()"
   ]
  },
  {
   "cell_type": "code",
   "execution_count": 13,
   "id": "2bb3c495",
   "metadata": {},
   "outputs": [
    {
     "data": {
      "text/plain": [
       "0"
      ]
     },
     "execution_count": 13,
     "metadata": {},
     "output_type": "execute_result"
    }
   ],
   "source": [
    "#check if their is duplicate or not\n",
    "df1.duplicated().sum()"
   ]
  },
  {
   "cell_type": "code",
   "execution_count": 23,
   "id": "fc8a424c",
   "metadata": {},
   "outputs": [],
   "source": [
    "import seaborn as sns \n",
    "import matplotlib.pyplot as plt\n",
    "%matplotlib inline"
   ]
  },
  {
   "cell_type": "code",
   "execution_count": 24,
   "id": "854c34b7",
   "metadata": {},
   "outputs": [
    {
     "data": {
      "text/plain": [
       "array([[<AxesSubplot:title={'center':'Displ'}>,\n",
       "        <AxesSubplot:title={'center':'Unadj Cmb MPG'}>]], dtype=object)"
      ]
     },
     "execution_count": 24,
     "metadata": {},
     "output_type": "execute_result"
    },
    {
     "data": {
      "image/png": "[encoded data removed]",
      "text/plain": [
       "<Figure size 720x720 with 2 Axes>"
      ]
     },
     "metadata": {
      "needs_background": "light"
     },
     "output_type": "display_data"
    }
   ],
   "source": [
    "#plot the graph for the dtypes - int and float\n",
    "df.hist(figsize=(10,10))"
   ]
  },
  {
   "cell_type": "code",
   "execution_count": 25,
   "id": "0996498a",
   "metadata": {},
   "outputs": [
    {
     "data": {
      "text/plain": [
       "0"
      ]
     },
     "execution_count": 25,
     "metadata": {},
     "output_type": "execute_result"
    }
   ],
   "source": [
    "#check the duplicates\n",
    "df1.duplicated().sum()"
   ]
  },
  {
   "cell_type": "code",
   "execution_count": 26,
   "id": "6cd6ea02",
   "metadata": {},
   "outputs": [
    {
     "data": {
      "text/plain": [
       "array([[<AxesSubplot:title={'center':'Displ'}>,\n",
       "        <AxesSubplot:title={'center':'Cyl'}>],\n",
       "       [<AxesSubplot:title={'center':'Air Pollution Score'}>,\n",
       "        <AxesSubplot:title={'center':'Greenhouse Gas Score'}>]],\n",
       "      dtype=object)"
      ]
     },
     "execution_count": 26,
     "metadata": {},
     "output_type": "execute_result"
    },
    {
     "data": {
      "image/png": "[encoded data removed]",
      "text/plain": [
       "<Figure size 720x720 with 4 Axes>"
      ]
     },
     "metadata": {
      "needs_background": "light"
     },
     "output_type": "display_data"
    }
   ],
   "source": [
    "#plot the graph for dtypes - int and float\n",
    "df1.hist(figsize=(10,10))"
   ]
  },
  {
   "cell_type": "code",
   "execution_count": 8,
   "id": "29f50e9f",
   "metadata": {},
   "outputs": [
    {
     "data": {
      "text/plain": [
       "180"
      ]
     },
     "execution_count": 8,
     "metadata": {},
     "output_type": "execute_result"
    }
   ],
   "source": [
    "#null values\n",
    "df['Hwy MPG'].isnull().sum()"
   ]
  },
  {
   "cell_type": "code",
   "execution_count": 9,
   "id": "37d31fd4",
   "metadata": {},
   "outputs": [
    {
     "data": {
      "text/plain": [
       "array([False, True, nan], dtype=object)"
      ]
     },
     "execution_count": 9,
     "metadata": {},
     "output_type": "execute_result"
    }
   ],
   "source": [
    "#check whether '/' contains or not\n",
    "df_uni = df['Hwy MPG'].str.contains('/')\n",
    "df_uni.unique()"
   ]
  },
  {
   "cell_type": "code",
   "execution_count": 10,
   "id": "91111bda",
   "metadata": {},
   "outputs": [
    {
     "data": {
      "text/plain": [
       "array(['20', '22', '24', '26', '27', '28', '16', '18', '17', '19', '29',\n",
       "       '25', '30', '23', '21', '31', '15', '14', '15/20', '14/19', '32',\n",
       "       '34', '33', '12/16', nan, '21/29', '20/28', '17/23', '12/17',\n",
       "       '12/19', '20/27', '19/26', '17/24', '12/18', '16/23', '13/18',\n",
       "       '35', '36', '45', '13/19', '13', '19/25', '13/17', '37'],\n",
       "      dtype=object)"
      ]
     },
     "execution_count": 10,
     "metadata": {},
     "output_type": "execute_result"
    }
   ],
   "source": [
    "#unique values\n",
    "df['Hwy MPG'].unique()"
   ]
  },
  {
   "cell_type": "code",
   "execution_count": 11,
   "id": "82e62e9e",
   "metadata": {},
   "outputs": [
    {
     "data": {
      "text/plain": [
       "array(['28', '27', '33', '32', '30', '29', '34', '24', '31', '35', '37',\n",
       "       '25', '19', '14', '34/78', '31/75', '31/68', '29/68', '26', '22',\n",
       "       '20', '23', '21', '15', '18', '40', '47', '52', '38', '45', '48',\n",
       "       '39', '20/28', '36', '43', '16/24', '15/22', '17/23', '16/22',\n",
       "       '42/99', '22/30', '20/27', '18/25', '16', '17', '41/91', '41',\n",
       "       '19/27', '42', '21/28', '21/61', '93', '24/32', '23/31', '17/22',\n",
       "       '27/66', '53', '13/17', '12/17', '33/72', '28/58', '30/61'],\n",
       "      dtype=object)"
      ]
     },
     "execution_count": 11,
     "metadata": {},
     "output_type": "execute_result"
    }
   ],
   "source": [
    "#unique values\n",
    "df1['Hwy MPG'].unique()"
   ]
  },
  {
   "cell_type": "code",
   "execution_count": 12,
   "id": "31415942",
   "metadata": {},
   "outputs": [
    {
     "data": {
      "text/plain": [
       "(2379, 18)"
      ]
     },
     "execution_count": 12,
     "metadata": {},
     "output_type": "execute_result"
    }
   ],
   "source": [
    "#copy the df into hf\n",
    "hf =df.copy()\n",
    "hf.shape"
   ]
  },
  {
   "cell_type": "code",
   "execution_count": 13,
   "id": "50edf339",
   "metadata": {},
   "outputs": [
    {
     "data": {
      "text/plain": [
       "(1611, 18)"
      ]
     },
     "execution_count": 13,
     "metadata": {},
     "output_type": "execute_result"
    }
   ],
   "source": [
    "#copy the df1 record into hf1\n",
    "hf1= df1.copy()\n",
    "hf1.shape"
   ]
  },
  {
   "cell_type": "code",
   "execution_count": 14,
   "id": "3bf6f8f6",
   "metadata": {},
   "outputs": [],
   "source": [
    "#drop colunms that have any null values\n",
    "hf.dropna(how='any',axis=0,inplace=True)"
   ]
  },
  {
   "cell_type": "code",
   "execution_count": 15,
   "id": "112a3b21",
   "metadata": {},
   "outputs": [
    {
     "data": {
      "text/plain": [
       "Model                   0\n",
       "Displ                   0\n",
       "Cyl                     0\n",
       "Trans                   0\n",
       "Drive                   0\n",
       "Fuel                    0\n",
       "Sales Area              0\n",
       "Stnd                    0\n",
       "Underhood ID            0\n",
       "Veh Class               0\n",
       "Air Pollution Score     0\n",
       "FE Calc Appr            0\n",
       "City MPG                0\n",
       "Hwy MPG                 0\n",
       "Cmb MPG                 0\n",
       "Unadj Cmb MPG           0\n",
       "Greenhouse Gas Score    0\n",
       "SmartWay                0\n",
       "dtype: int64"
      ]
     },
     "execution_count": 15,
     "metadata": {},
     "output_type": "execute_result"
    }
   ],
   "source": [
    "#check the null values\n",
    "hf.isnull().sum()"
   ]
  },
  {
   "cell_type": "code",
   "execution_count": 16,
   "id": "57f0d3d2",
   "metadata": {},
   "outputs": [],
   "source": [
    "hf_uni = hf[hf['Cmb MPG'].str.contains('/')]   #string contains\n",
    "#copy\n",
    "df_1 = hf_uni.copy()     \n",
    "df_2 = hf_uni.copy()"
   ]
  },
  {
   "cell_type": "code",
   "execution_count": 17,
   "id": "142c1dcd",
   "metadata": {},
   "outputs": [],
   "source": [
    "hf1_uni = hf1[hf1['Cmb MPG'].str.contains('/')]\n",
    "#copy\n",
    "df_3 = hf1_uni.copy()\n",
    "df_4 = hf1_uni.copy()"
   ]
  },
  {
   "cell_type": "code",
   "execution_count": 18,
   "id": "ab6cdc0f",
   "metadata": {},
   "outputs": [],
   "source": [
    "object_col = ['Hwy MPG','City MPG','Cmb MPG','Greenhouse Gas Score','Air Pollution Score']\n",
    "#'/' is split into 2 numbers\n",
    "for i in object_col:\n",
    "    df_1[i] = df_1[i].apply(lambda x:x.split(\"/\")[0])\n",
    "    df_2[i] = df_2[i].apply(lambda x:x.split(\"/\")[1])\n",
    "    new_row = df_1.append(df_2)"
   ]
  },
  {
   "cell_type": "code",
   "execution_count": 19,
   "id": "d17465dc",
   "metadata": {},
   "outputs": [],
   "source": [
    "ob_col = ['Hwy MPG','City MPG','Cmb MPG']\n",
    "#'/' is split into 2 numbers\n",
    "for i in ob_col:\n",
    "    df_3[i] = df_3[i].apply(lambda x:x.split(\"/\")[0])\n",
    "    df_4[i] = df_4[i].apply(lambda x:x.split(\"/\")[1])\n",
    "    new_row1 = df_3.append(df_4)"
   ]
  },
  {
   "cell_type": "code",
   "execution_count": 20,
   "id": "826a8392",
   "metadata": {},
   "outputs": [],
   "source": [
    "#remove that \"/\" containing columns and add the new_row \n",
    "hf.drop(hf_uni.index,inplace=True)  #drop that '/' colunms\n",
    "#adding the new_row\n",
    "df_08 = hf.append(new_row)\n"
   ]
  },
  {
   "cell_type": "code",
   "execution_count": 21,
   "id": "26ca7751",
   "metadata": {},
   "outputs": [
    {
     "data": {
      "text/plain": [
       "(2133, 18)"
      ]
     },
     "execution_count": 21,
     "metadata": {},
     "output_type": "execute_result"
    }
   ],
   "source": [
    "#compare the shape for verying that new_row is added or not\n",
    "hf.shape"
   ]
  },
  {
   "cell_type": "code",
   "execution_count": 22,
   "id": "e3da878c",
   "metadata": {},
   "outputs": [
    {
     "data": {
      "text/plain": [
       "(2265, 18)"
      ]
     },
     "execution_count": 22,
     "metadata": {},
     "output_type": "execute_result"
    }
   ],
   "source": [
    "df_08.shape"
   ]
  },
  {
   "cell_type": "code",
   "execution_count": 23,
   "id": "ba0dfb23",
   "metadata": {},
   "outputs": [],
   "source": [
    "#remove that \"/\" containing columns and add the new_row \n",
    "hf1.drop(hf1_uni.index,inplace=True)\n",
    "df_18 = hf1.append(new_row1)"
   ]
  },
  {
   "cell_type": "code",
   "execution_count": 24,
   "id": "645647f8",
   "metadata": {},
   "outputs": [
    {
     "data": {
      "text/plain": [
       "(1532, 18)"
      ]
     },
     "execution_count": 24,
     "metadata": {},
     "output_type": "execute_result"
    }
   ],
   "source": [
    "#compare the shape for verying that new_row is added or not\n",
    "hf1.shape"
   ]
  },
  {
   "cell_type": "code",
   "execution_count": 25,
   "id": "269d12bb",
   "metadata": {},
   "outputs": [
    {
     "data": {
      "text/plain": [
       "(1690, 18)"
      ]
     },
     "execution_count": 25,
     "metadata": {},
     "output_type": "execute_result"
    }
   ],
   "source": [
    "df_18.shape"
   ]
  },
  {
   "cell_type": "code",
   "execution_count": 26,
   "id": "37bffa10",
   "metadata": {},
   "outputs": [],
   "source": [
    "#change the data type (object to int)\n",
    "df_08[['Hwy MPG','City MPG','Cmb MPG','Greenhouse Gas Score']] = df_08[['Hwy MPG','City MPG','Cmb MPG','Greenhouse Gas Score']].astype(int)"
   ]
  },
  {
   "cell_type": "code",
   "execution_count": 27,
   "id": "13b35194",
   "metadata": {},
   "outputs": [],
   "source": [
    "#change the data type (object to float)\n",
    "df_08['Air Pollution Score'] = df_08['Air Pollution Score'].astype(float)"
   ]
  },
  {
   "cell_type": "code",
   "execution_count": 28,
   "id": "dddeeb77",
   "metadata": {},
   "outputs": [
    {
     "data": {
      "text/plain": [
       "Model                    object\n",
       "Displ                   float64\n",
       "Cyl                      object\n",
       "Trans                    object\n",
       "Drive                    object\n",
       "Fuel                     object\n",
       "Sales Area               object\n",
       "Stnd                     object\n",
       "Underhood ID             object\n",
       "Veh Class                object\n",
       "Air Pollution Score     float64\n",
       "FE Calc Appr             object\n",
       "City MPG                  int32\n",
       "Hwy MPG                   int32\n",
       "Cmb MPG                   int32\n",
       "Unadj Cmb MPG           float64\n",
       "Greenhouse Gas Score      int32\n",
       "SmartWay                 object\n",
       "dtype: object"
      ]
     },
     "execution_count": 28,
     "metadata": {},
     "output_type": "execute_result"
    }
   ],
   "source": [
    "#check whether it is changed or not \n",
    "df_08.dtypes"
   ]
  },
  {
   "cell_type": "code",
   "execution_count": 29,
   "id": "8cc9c906",
   "metadata": {},
   "outputs": [],
   "source": [
    "#change the data type (object to int)\n",
    "df_18[['Hwy MPG','City MPG','Cmb MPG']] = df_18[['Hwy MPG','City MPG','Cmb MPG']].astype(int)"
   ]
  },
  {
   "cell_type": "code",
   "execution_count": 49,
   "id": "beb0774d",
   "metadata": {},
   "outputs": [
    {
     "data": {
      "text/plain": [
       "Model                    object\n",
       "Displ                   float64\n",
       "Cyl                     float64\n",
       "Trans                    object\n",
       "Drive                    object\n",
       "Fuel                     object\n",
       "Cert Region              object\n",
       "Stnd                     object\n",
       "Stnd Description         object\n",
       "Underhood ID             object\n",
       "Veh Class                object\n",
       "Air Pollution Score       int64\n",
       "City MPG                  int32\n",
       "Hwy MPG                   int32\n",
       "Cmb MPG                   int32\n",
       "Greenhouse Gas Score      int64\n",
       "SmartWay                 object\n",
       "Comb CO2                 object\n",
       "dtype: object"
      ]
     },
     "execution_count": 49,
     "metadata": {},
     "output_type": "execute_result"
    }
   ],
   "source": [
    "#check whether it is changed or not\n",
    "df_18.dtypes"
   ]
  },
  {
   "cell_type": "markdown",
   "id": "4bc9cf28",
   "metadata": {},
   "source": [
    "### Questions:"
   ]
  },
  {
   "cell_type": "markdown",
   "id": "0570c019",
   "metadata": {},
   "source": [
    "#### Q1: Are more unique models using alternative fuels in 2018 compared to 2008? By how much?"
   ]
  },
  {
   "cell_type": "code",
   "execution_count": 316,
   "id": "3c2a96b4",
   "metadata": {},
   "outputs": [
    {
     "data": {
      "text/plain": [
       "Gasoline       2318\n",
       "ethanol/gas      72\n",
       "diesel           11\n",
       "CNG               2\n",
       "ethanol           1\n",
       "Name: Fuel, dtype: int64"
      ]
     },
     "execution_count": 316,
     "metadata": {},
     "output_type": "execute_result"
    }
   ],
   "source": [
    "#count of each fuel \n",
    "df['Fuel'].value_counts()"
   ]
  },
  {
   "cell_type": "code",
   "execution_count": 317,
   "id": "794b734a",
   "metadata": {},
   "outputs": [
    {
     "data": {
      "text/plain": [
       "Gasoline                1492\n",
       "Ethanol/Gas               55\n",
       "Diesel                    38\n",
       "Gasoline/Electricity      24\n",
       "Electricity                2\n",
       "Name: Fuel, dtype: int64"
      ]
     },
     "execution_count": 317,
     "metadata": {},
     "output_type": "execute_result"
    }
   ],
   "source": [
    "#count of each fuels\n",
    "df1['Fuel'].value_counts()"
   ]
  },
  {
   "cell_type": "markdown",
   "id": "0e29b06a",
   "metadata": {},
   "source": [
    "What are the Alternative fuels? In 2008 CNG, ethanol,ethanol/gas and in 2018 Ethanol/Gas, Electricity"
   ]
  },
  {
   "cell_type": "code",
   "execution_count": 318,
   "id": "ed4bf8fd",
   "metadata": {},
   "outputs": [
    {
     "data": {
      "text/plain": [
       "Model    436\n",
       "Fuel       5\n",
       "dtype: int64"
      ]
     },
     "execution_count": 318,
     "metadata": {},
     "output_type": "execute_result"
    }
   ],
   "source": [
    "#unique of Model and Fuel\n",
    "df[['Model','Fuel']].nunique()"
   ]
  },
  {
   "cell_type": "code",
   "execution_count": 319,
   "id": "bc7e9134",
   "metadata": {},
   "outputs": [
    {
     "data": {
      "text/plain": [
       "Model    367\n",
       "Fuel       5\n",
       "dtype: int64"
      ]
     },
     "execution_count": 319,
     "metadata": {},
     "output_type": "execute_result"
    }
   ],
   "source": [
    "#unique of Model and Fuel\n",
    "df1[['Model','Fuel']].nunique()"
   ]
  },
  {
   "cell_type": "code",
   "execution_count": 320,
   "id": "877e2b9a",
   "metadata": {},
   "outputs": [
    {
     "data": {
      "text/plain": [
       "36"
      ]
     },
     "execution_count": 320,
     "metadata": {},
     "output_type": "execute_result"
    }
   ],
   "source": [
    "#Alternative fuel - no of unique models \n",
    "df_al08 = df.query('Fuel in [\"ethanol/gas\",\"CNG\",\"ethanol\"]')['Model'].nunique()\n",
    "df_al08"
   ]
  },
  {
   "cell_type": "code",
   "execution_count": 321,
   "id": "0a7d021c",
   "metadata": {},
   "outputs": [
    {
     "data": {
      "text/plain": [
       "19"
      ]
     },
     "execution_count": 321,
     "metadata": {},
     "output_type": "execute_result"
    }
   ],
   "source": [
    "#Alternative fuel - no of unique models \n",
    "df_al18 = df1.query('Fuel in [\"Ethanol/Gas\",\"Electricity\"]')['Model'].nunique()\n",
    "df_al18"
   ]
  },
  {
   "cell_type": "code",
   "execution_count": 325,
   "id": "abbbc597",
   "metadata": {},
   "outputs": [
    {
     "data": {
      "text/plain": [
       "Text(0, 0.5, 'Unique Models')"
      ]
     },
     "execution_count": 325,
     "metadata": {},
     "output_type": "execute_result"
    },
    {
     "data": {
      "image/png": "[encoded data removed]",
      "text/plain": [
       "<Figure size 432x288 with 1 Axes>"
      ]
     },
     "metadata": {
      "needs_background": "light"
     },
     "output_type": "display_data"
    }
   ],
   "source": [
    "#chart \n",
    "locations = [1,2]\n",
    "heigths = [df_al08 , df_al18]\n",
    "labels = ['2008' , '2018']\n",
    "plt.bar(locations,heigths,tick_label=labels)\n",
    "plt.title('More unique models using alternative fuels in 2018 compared to 2008')\n",
    "plt.xlabel('Year')\n",
    "plt.ylabel('Unique Models')"
   ]
  },
  {
   "cell_type": "markdown",
   "id": "e0383be4",
   "metadata": {},
   "source": [
    "This is the graph of more unique models using alternative fuels in 2018 compared to 2008.\n",
    "\n",
    "By how much?\n",
    "\n",
    "2008 : 36 , \n",
    "2018 : 19\n",
    "\n",
    "2008 - 2018 = 36-19 = 17"
   ]
  },
  {
   "cell_type": "markdown",
   "id": "1da691ef",
   "metadata": {},
   "source": [
    "#### Q2: How much have vehicle classes improved in fuel economy (increased in mpg)?"
   ]
  },
  {
   "cell_type": "code",
   "execution_count": 336,
   "id": "6f8bc30b",
   "metadata": {},
   "outputs": [
    {
     "data": {
      "text/html": [
       "<div>\n",
       "<style scoped>\n",
       "    .dataframe tbody tr th:only-of-type {\n",
       "        vertical-align: middle;\n",
       "    }\n",
       "\n",
       "    .dataframe tbody tr th {\n",
       "        vertical-align: top;\n",
       "    }\n",
       "\n",
       "    .dataframe thead th {\n",
       "        text-align: right;\n",
       "    }\n",
       "</style>\n",
       "<table border=\"1\" class=\"dataframe\">\n",
       "  <thead>\n",
       "    <tr style=\"text-align: right;\">\n",
       "      <th></th>\n",
       "      <th>Veh Class</th>\n",
       "      <th>Cmb MPG</th>\n",
       "    </tr>\n",
       "  </thead>\n",
       "  <tbody>\n",
       "    <tr>\n",
       "      <th>0</th>\n",
       "      <td>SUV</td>\n",
       "      <td>17.971037</td>\n",
       "    </tr>\n",
       "    <tr>\n",
       "      <th>1</th>\n",
       "      <td>large car</td>\n",
       "      <td>18.323308</td>\n",
       "    </tr>\n",
       "    <tr>\n",
       "      <th>2</th>\n",
       "      <td>midsize car</td>\n",
       "      <td>21.370504</td>\n",
       "    </tr>\n",
       "    <tr>\n",
       "      <th>3</th>\n",
       "      <td>minivan</td>\n",
       "      <td>18.666667</td>\n",
       "    </tr>\n",
       "    <tr>\n",
       "      <th>4</th>\n",
       "      <td>pickup</td>\n",
       "      <td>16.194346</td>\n",
       "    </tr>\n",
       "    <tr>\n",
       "      <th>5</th>\n",
       "      <td>small car</td>\n",
       "      <td>21.046043</td>\n",
       "    </tr>\n",
       "    <tr>\n",
       "      <th>6</th>\n",
       "      <td>station wagon</td>\n",
       "      <td>22.349593</td>\n",
       "    </tr>\n",
       "    <tr>\n",
       "      <th>7</th>\n",
       "      <td>van</td>\n",
       "      <td>14.187500</td>\n",
       "    </tr>\n",
       "  </tbody>\n",
       "</table>\n",
       "</div>"
      ],
      "text/plain": [
       "       Veh Class    Cmb MPG\n",
       "0            SUV  17.971037\n",
       "1      large car  18.323308\n",
       "2    midsize car  21.370504\n",
       "3        minivan  18.666667\n",
       "4         pickup  16.194346\n",
       "5      small car  21.046043\n",
       "6  station wagon  22.349593\n",
       "7            van  14.187500"
      ]
     },
     "execution_count": 336,
     "metadata": {},
     "output_type": "execute_result"
    }
   ],
   "source": [
    "#groupby the Veh Class and take the mean of Cmb MPG\n",
    "df_plt = df_08.groupby('Veh Class')['Cmb MPG'].mean().reset_index()\n",
    "df_plt"
   ]
  },
  {
   "cell_type": "code",
   "execution_count": 335,
   "id": "19db2cd0",
   "metadata": {},
   "outputs": [
    {
     "data": {
      "text/plain": [
       "<AxesSubplot:xlabel='Veh Class'>"
      ]
     },
     "execution_count": 335,
     "metadata": {},
     "output_type": "execute_result"
    },
    {
     "data": {
      "image/png": "[encoded data removed]",
      "text/plain": [
       "<Figure size 432x288 with 1 Axes>"
      ]
     },
     "metadata": {
      "needs_background": "light"
     },
     "output_type": "display_data"
    }
   ],
   "source": [
    "#chart\n",
    "df_plt.index = df_plt['Veh Class']\n",
    "df_plt.plot(kind='bar')\n"
   ]
  },
  {
   "cell_type": "code",
   "execution_count": 338,
   "id": "768980c5",
   "metadata": {},
   "outputs": [
    {
     "data": {
      "text/html": [
       "<div>\n",
       "<style scoped>\n",
       "    .dataframe tbody tr th:only-of-type {\n",
       "        vertical-align: middle;\n",
       "    }\n",
       "\n",
       "    .dataframe tbody tr th {\n",
       "        vertical-align: top;\n",
       "    }\n",
       "\n",
       "    .dataframe thead th {\n",
       "        text-align: right;\n",
       "    }\n",
       "</style>\n",
       "<table border=\"1\" class=\"dataframe\">\n",
       "  <thead>\n",
       "    <tr style=\"text-align: right;\">\n",
       "      <th></th>\n",
       "      <th>Veh Class</th>\n",
       "      <th>Cmb MPG</th>\n",
       "    </tr>\n",
       "  </thead>\n",
       "  <tbody>\n",
       "    <tr>\n",
       "      <th>0</th>\n",
       "      <td>large car</td>\n",
       "      <td>23.372881</td>\n",
       "    </tr>\n",
       "    <tr>\n",
       "      <th>1</th>\n",
       "      <td>midsize car</td>\n",
       "      <td>27.821429</td>\n",
       "    </tr>\n",
       "    <tr>\n",
       "      <th>2</th>\n",
       "      <td>minivan</td>\n",
       "      <td>20.800000</td>\n",
       "    </tr>\n",
       "    <tr>\n",
       "      <th>3</th>\n",
       "      <td>pickup</td>\n",
       "      <td>18.589744</td>\n",
       "    </tr>\n",
       "    <tr>\n",
       "      <th>4</th>\n",
       "      <td>small SUV</td>\n",
       "      <td>23.968326</td>\n",
       "    </tr>\n",
       "    <tr>\n",
       "      <th>5</th>\n",
       "      <td>small car</td>\n",
       "      <td>25.388889</td>\n",
       "    </tr>\n",
       "    <tr>\n",
       "      <th>6</th>\n",
       "      <td>special purpose</td>\n",
       "      <td>18.666667</td>\n",
       "    </tr>\n",
       "    <tr>\n",
       "      <th>7</th>\n",
       "      <td>standard SUV</td>\n",
       "      <td>18.160920</td>\n",
       "    </tr>\n",
       "    <tr>\n",
       "      <th>8</th>\n",
       "      <td>station wagon</td>\n",
       "      <td>29.722222</td>\n",
       "    </tr>\n",
       "  </tbody>\n",
       "</table>\n",
       "</div>"
      ],
      "text/plain": [
       "         Veh Class    Cmb MPG\n",
       "0        large car  23.372881\n",
       "1      midsize car  27.821429\n",
       "2          minivan  20.800000\n",
       "3           pickup  18.589744\n",
       "4        small SUV  23.968326\n",
       "5        small car  25.388889\n",
       "6  special purpose  18.666667\n",
       "7     standard SUV  18.160920\n",
       "8    station wagon  29.722222"
      ]
     },
     "execution_count": 338,
     "metadata": {},
     "output_type": "execute_result"
    }
   ],
   "source": [
    "df_plt1 = df_18.groupby('Veh Class')['Cmb MPG'].mean().reset_index()\n",
    "df_plt1"
   ]
  },
  {
   "cell_type": "code",
   "execution_count": 340,
   "id": "a67c7b3f",
   "metadata": {},
   "outputs": [
    {
     "data": {
      "text/plain": [
       "<AxesSubplot:xlabel='Veh Class'>"
      ]
     },
     "execution_count": 340,
     "metadata": {},
     "output_type": "execute_result"
    },
    {
     "data": {
      "image/png": "[encoded data removed]",
      "text/plain": [
       "<Figure size 432x288 with 1 Axes>"
      ]
     },
     "metadata": {
      "needs_background": "light"
     },
     "output_type": "display_data"
    }
   ],
   "source": [
    "df_plt1.index = df_plt1['Veh Class']\n",
    "df_plt1.plot(kind ='bar')"
   ]
  },
  {
   "cell_type": "markdown",
   "id": "02e17ea3",
   "metadata": {},
   "source": [
    "#### Q3: What are the characteristics of SmartWay vehicles? Have they changed over time? (mpg, greenhouse gas)"
   ]
  },
  {
   "cell_type": "code",
   "execution_count": 50,
   "id": "96dfab62",
   "metadata": {},
   "outputs": [
    {
     "data": {
      "text/plain": [
       "array(['no', 'yes'], dtype=object)"
      ]
     },
     "execution_count": 50,
     "metadata": {},
     "output_type": "execute_result"
    }
   ],
   "source": [
    "#unique character of Smartway\n",
    "df_08['SmartWay'].unique()"
   ]
  },
  {
   "cell_type": "code",
   "execution_count": 51,
   "id": "0eae8564",
   "metadata": {},
   "outputs": [
    {
     "data": {
      "text/plain": [
       "2265"
      ]
     },
     "execution_count": 51,
     "metadata": {},
     "output_type": "execute_result"
    }
   ],
   "source": [
    "#total count of smartway\n",
    "df_08['SmartWay'].count()"
   ]
  },
  {
   "cell_type": "code",
   "execution_count": 52,
   "id": "b1029d1d",
   "metadata": {},
   "outputs": [
    {
     "data": {
      "text/plain": [
       "array(['No', 'Yes', 'Elite'], dtype=object)"
      ]
     },
     "execution_count": 52,
     "metadata": {},
     "output_type": "execute_result"
    }
   ],
   "source": [
    "#unique of Smartway\n",
    "df_18['SmartWay'].unique()"
   ]
  },
  {
   "cell_type": "code",
   "execution_count": 53,
   "id": "065cde6d",
   "metadata": {},
   "outputs": [
    {
     "data": {
      "text/plain": [
       "1690"
      ]
     },
     "execution_count": 53,
     "metadata": {},
     "output_type": "execute_result"
    }
   ],
   "source": [
    "#count of Smartway\n",
    "df_18['SmartWay'].count()"
   ]
  },
  {
   "cell_type": "code",
   "execution_count": 54,
   "id": "b592eeb1",
   "metadata": {},
   "outputs": [
    {
     "data": {
      "text/html": [
       "<div>\n",
       "<style scoped>\n",
       "    .dataframe tbody tr th:only-of-type {\n",
       "        vertical-align: middle;\n",
       "    }\n",
       "\n",
       "    .dataframe tbody tr th {\n",
       "        vertical-align: top;\n",
       "    }\n",
       "\n",
       "    .dataframe thead th {\n",
       "        text-align: right;\n",
       "    }\n",
       "</style>\n",
       "<table border=\"1\" class=\"dataframe\">\n",
       "  <thead>\n",
       "    <tr style=\"text-align: right;\">\n",
       "      <th></th>\n",
       "      <th>Hwy MPG</th>\n",
       "      <th>City MPG</th>\n",
       "      <th>Cmb MPG</th>\n",
       "      <th>Greenhouse Gas Score</th>\n",
       "    </tr>\n",
       "  </thead>\n",
       "  <tbody>\n",
       "    <tr>\n",
       "      <th>count</th>\n",
       "      <td>638.000000</td>\n",
       "      <td>638.000000</td>\n",
       "      <td>638.000000</td>\n",
       "      <td>638.000000</td>\n",
       "    </tr>\n",
       "    <tr>\n",
       "      <th>mean</th>\n",
       "      <td>28.871473</td>\n",
       "      <td>21.443574</td>\n",
       "      <td>24.188088</td>\n",
       "      <td>7.023511</td>\n",
       "    </tr>\n",
       "    <tr>\n",
       "      <th>std</th>\n",
       "      <td>3.078120</td>\n",
       "      <td>3.470772</td>\n",
       "      <td>3.065335</td>\n",
       "      <td>0.797019</td>\n",
       "    </tr>\n",
       "    <tr>\n",
       "      <th>min</th>\n",
       "      <td>22.000000</td>\n",
       "      <td>17.000000</td>\n",
       "      <td>20.000000</td>\n",
       "      <td>6.000000</td>\n",
       "    </tr>\n",
       "    <tr>\n",
       "      <th>25%</th>\n",
       "      <td>27.000000</td>\n",
       "      <td>20.000000</td>\n",
       "      <td>22.000000</td>\n",
       "      <td>6.000000</td>\n",
       "    </tr>\n",
       "    <tr>\n",
       "      <th>50%</th>\n",
       "      <td>29.000000</td>\n",
       "      <td>21.000000</td>\n",
       "      <td>24.000000</td>\n",
       "      <td>7.000000</td>\n",
       "    </tr>\n",
       "    <tr>\n",
       "      <th>75%</th>\n",
       "      <td>31.000000</td>\n",
       "      <td>22.000000</td>\n",
       "      <td>25.000000</td>\n",
       "      <td>7.000000</td>\n",
       "    </tr>\n",
       "    <tr>\n",
       "      <th>max</th>\n",
       "      <td>45.000000</td>\n",
       "      <td>48.000000</td>\n",
       "      <td>46.000000</td>\n",
       "      <td>10.000000</td>\n",
       "    </tr>\n",
       "  </tbody>\n",
       "</table>\n",
       "</div>"
      ],
      "text/plain": [
       "          Hwy MPG    City MPG     Cmb MPG  Greenhouse Gas Score\n",
       "count  638.000000  638.000000  638.000000            638.000000\n",
       "mean    28.871473   21.443574   24.188088              7.023511\n",
       "std      3.078120    3.470772    3.065335              0.797019\n",
       "min     22.000000   17.000000   20.000000              6.000000\n",
       "25%     27.000000   20.000000   22.000000              6.000000\n",
       "50%     29.000000   21.000000   24.000000              7.000000\n",
       "75%     31.000000   22.000000   25.000000              7.000000\n",
       "max     45.000000   48.000000   46.000000             10.000000"
      ]
     },
     "execution_count": 54,
     "metadata": {},
     "output_type": "execute_result"
    }
   ],
   "source": [
    "#characteristics of Smartway('yes')\n",
    "df_08.query('SmartWay in [\"yes\"]')[['Hwy MPG','City MPG','Cmb MPG','Greenhouse Gas Score']].describe()"
   ]
  },
  {
   "cell_type": "code",
   "execution_count": 55,
   "id": "84040a9d",
   "metadata": {},
   "outputs": [
    {
     "data": {
      "text/plain": [
       "<AxesSubplot:>"
      ]
     },
     "execution_count": 55,
     "metadata": {},
     "output_type": "execute_result"
    },
    {
     "data": {
      "image/png": "[encoded data removed]",
      "text/plain": [
       "<Figure size 432x288 with 1 Axes>"
      ]
     },
     "metadata": {
      "needs_background": "light"
     },
     "output_type": "display_data"
    }
   ],
   "source": [
    "df_08.query('SmartWay in [\"yes\"]')[['Cmb MPG','Greenhouse Gas Score']].describe()[1:].plot(kind='bar')"
   ]
  },
  {
   "cell_type": "markdown",
   "id": "c351753a",
   "metadata": {},
   "source": [
    "The above graph is the various characteristics of SmartWay 'yes' (expect count in describe() )"
   ]
  },
  {
   "cell_type": "code",
   "execution_count": 56,
   "id": "f363ba5e",
   "metadata": {},
   "outputs": [
    {
     "data": {
      "text/html": [
       "<div>\n",
       "<style scoped>\n",
       "    .dataframe tbody tr th:only-of-type {\n",
       "        vertical-align: middle;\n",
       "    }\n",
       "\n",
       "    .dataframe tbody tr th {\n",
       "        vertical-align: top;\n",
       "    }\n",
       "\n",
       "    .dataframe thead th {\n",
       "        text-align: right;\n",
       "    }\n",
       "</style>\n",
       "<table border=\"1\" class=\"dataframe\">\n",
       "  <thead>\n",
       "    <tr style=\"text-align: right;\">\n",
       "      <th></th>\n",
       "      <th>Hwy MPG</th>\n",
       "      <th>City MPG</th>\n",
       "      <th>Cmb MPG</th>\n",
       "      <th>Greenhouse Gas Score</th>\n",
       "    </tr>\n",
       "  </thead>\n",
       "  <tbody>\n",
       "    <tr>\n",
       "      <th>count</th>\n",
       "      <td>219.000000</td>\n",
       "      <td>219.000000</td>\n",
       "      <td>219.000000</td>\n",
       "      <td>219.000000</td>\n",
       "    </tr>\n",
       "    <tr>\n",
       "      <th>mean</th>\n",
       "      <td>41.917808</td>\n",
       "      <td>35.694064</td>\n",
       "      <td>37.977169</td>\n",
       "      <td>7.940639</td>\n",
       "    </tr>\n",
       "    <tr>\n",
       "      <th>std</th>\n",
       "      <td>13.879316</td>\n",
       "      <td>18.368864</td>\n",
       "      <td>16.186823</td>\n",
       "      <td>1.204404</td>\n",
       "    </tr>\n",
       "    <tr>\n",
       "      <th>min</th>\n",
       "      <td>27.000000</td>\n",
       "      <td>25.000000</td>\n",
       "      <td>26.000000</td>\n",
       "      <td>7.000000</td>\n",
       "    </tr>\n",
       "    <tr>\n",
       "      <th>25%</th>\n",
       "      <td>36.000000</td>\n",
       "      <td>28.000000</td>\n",
       "      <td>31.000000</td>\n",
       "      <td>7.000000</td>\n",
       "    </tr>\n",
       "    <tr>\n",
       "      <th>50%</th>\n",
       "      <td>37.000000</td>\n",
       "      <td>29.000000</td>\n",
       "      <td>32.000000</td>\n",
       "      <td>7.000000</td>\n",
       "    </tr>\n",
       "    <tr>\n",
       "      <th>75%</th>\n",
       "      <td>41.000000</td>\n",
       "      <td>32.000000</td>\n",
       "      <td>35.000000</td>\n",
       "      <td>9.000000</td>\n",
       "    </tr>\n",
       "    <tr>\n",
       "      <th>max</th>\n",
       "      <td>99.000000</td>\n",
       "      <td>124.000000</td>\n",
       "      <td>108.000000</td>\n",
       "      <td>10.000000</td>\n",
       "    </tr>\n",
       "  </tbody>\n",
       "</table>\n",
       "</div>"
      ],
      "text/plain": [
       "          Hwy MPG    City MPG     Cmb MPG  Greenhouse Gas Score\n",
       "count  219.000000  219.000000  219.000000            219.000000\n",
       "mean    41.917808   35.694064   37.977169              7.940639\n",
       "std     13.879316   18.368864   16.186823              1.204404\n",
       "min     27.000000   25.000000   26.000000              7.000000\n",
       "25%     36.000000   28.000000   31.000000              7.000000\n",
       "50%     37.000000   29.000000   32.000000              7.000000\n",
       "75%     41.000000   32.000000   35.000000              9.000000\n",
       "max     99.000000  124.000000  108.000000             10.000000"
      ]
     },
     "execution_count": 56,
     "metadata": {},
     "output_type": "execute_result"
    }
   ],
   "source": [
    "#characteristics of Smartway('yes')\n",
    "df_18.query('SmartWay in [\"Yes\",\"Elite\"]')[['Hwy MPG','City MPG','Cmb MPG','Greenhouse Gas Score']].describe()"
   ]
  },
  {
   "cell_type": "code",
   "execution_count": 58,
   "id": "38b408f4",
   "metadata": {},
   "outputs": [
    {
     "data": {
      "text/plain": [
       "<AxesSubplot:>"
      ]
     },
     "execution_count": 58,
     "metadata": {},
     "output_type": "execute_result"
    },
    {
     "data": {
      "image/png": "[encoded data removed]",
      "text/plain": [
       "<Figure size 432x288 with 1 Axes>"
      ]
     },
     "metadata": {
      "needs_background": "light"
     },
     "output_type": "display_data"
    }
   ],
   "source": [
    "df_18.query('SmartWay in [\"Yes\",\"Elite\"]')[['Cmb MPG','Greenhouse Gas Score']].describe()[1:].plot(kind='bar')"
   ]
  },
  {
   "cell_type": "markdown",
   "id": "84f6dedb",
   "metadata": {},
   "source": [
    "This graph (2018 record)  is the various characteristics of SmartWay 'yes' and 'Elite' (expect count in describe() )\n",
    "\n",
    "SmartWay certification is based on the greenhouse gas (GHG) and smog ratings found on vehicle fuel economy labels.\n",
    "\n",
    "According to that , both graph have almost  same value in Greenhouse Gas Score but in Cmb MPG 2018 record is higher than 2008 record."
   ]
  },
  {
   "cell_type": "markdown",
   "id": "a5913a0f",
   "metadata": {},
   "source": [
    "#### Q4: What features are associated with better fuel economy (mpg)?"
   ]
  },
  {
   "cell_type": "code",
   "execution_count": 31,
   "id": "2241cde4",
   "metadata": {},
   "outputs": [
    {
     "data": {
      "text/plain": [
       "19.0"
      ]
     },
     "execution_count": 31,
     "metadata": {},
     "output_type": "execute_result"
    }
   ],
   "source": [
    "#rename the colunm \n",
    "df_08.rename(columns={'Cmb MPG':'Cmb_MPG'},inplace=True)\n",
    "#median\n",
    "m = df_08['Cmb_MPG'].median()\n",
    "m"
   ]
  },
  {
   "cell_type": "code",
   "execution_count": 32,
   "id": "62bf9892",
   "metadata": {},
   "outputs": [
    {
     "data": {
      "text/plain": [
       "array([[<AxesSubplot:title={'center':'Displ'}>,\n",
       "        <AxesSubplot:title={'center':'Air Pollution Score'}>,\n",
       "        <AxesSubplot:title={'center':'City MPG'}>],\n",
       "       [<AxesSubplot:title={'center':'Hwy MPG'}>,\n",
       "        <AxesSubplot:title={'center':'Cmb_MPG'}>,\n",
       "        <AxesSubplot:title={'center':'Unadj Cmb MPG'}>],\n",
       "       [<AxesSubplot:title={'center':'Greenhouse Gas Score'}>,\n",
       "        <AxesSubplot:>, <AxesSubplot:>]], dtype=object)"
      ]
     },
     "execution_count": 32,
     "metadata": {},
     "output_type": "execute_result"
    },
    {
     "data": {
      "image/png": "[encoded data removed]",
      "text/plain": [
       "<Figure size 720x720 with 9 Axes>"
      ]
     },
     "metadata": {
      "needs_background": "light"
     },
     "output_type": "display_data"
    }
   ],
   "source": [
    "#for better fuel (greater than 19)\n",
    "better_fuel = df_08.query('Cmb_MPG > {}'.format(m))\n",
    "better_fuel.hist(figsize=(10,10))"
   ]
  },
  {
   "cell_type": "code",
   "execution_count": 33,
   "id": "fa691990",
   "metadata": {},
   "outputs": [
    {
     "data": {
      "text/plain": [
       "23.0"
      ]
     },
     "execution_count": 33,
     "metadata": {},
     "output_type": "execute_result"
    }
   ],
   "source": [
    "#rename the column\n",
    "df_18.rename(columns = {'Cmb MPG':'Cmb_MPG'},inplace=True)\n",
    "m = df_18['Cmb_MPG'].median()\n",
    "m"
   ]
  },
  {
   "cell_type": "code",
   "execution_count": 34,
   "id": "2e89eb52",
   "metadata": {},
   "outputs": [
    {
     "data": {
      "text/plain": [
       "array([[<AxesSubplot:title={'center':'Displ'}>,\n",
       "        <AxesSubplot:title={'center':'Cyl'}>,\n",
       "        <AxesSubplot:title={'center':'Air Pollution Score'}>],\n",
       "       [<AxesSubplot:title={'center':'City MPG'}>,\n",
       "        <AxesSubplot:title={'center':'Hwy MPG'}>,\n",
       "        <AxesSubplot:title={'center':'Cmb_MPG'}>],\n",
       "       [<AxesSubplot:title={'center':'Greenhouse Gas Score'}>,\n",
       "        <AxesSubplot:>, <AxesSubplot:>]], dtype=object)"
      ]
     },
     "execution_count": 34,
     "metadata": {},
     "output_type": "execute_result"
    },
    {
     "data": {
      "image/png": "[encoded data removed]",
      "text/plain": [
       "<Figure size 720x720 with 9 Axes>"
      ]
     },
     "metadata": {
      "needs_background": "light"
     },
     "output_type": "display_data"
    }
   ],
   "source": [
    "better_fuel1 = df_18.query('Cmb_MPG > {}'.format(m))\n",
    "better_fuel1.hist(figsize=(10,10))"
   ]
  },
  {
   "cell_type": "markdown",
   "id": "028cd32e",
   "metadata": {},
   "source": [
    "#### Q5:For all of the models that were produced in 2008 that are still being produced in 2018, how much has the mpg improved and which vehicle improved the most?"
   ]
  },
  {
   "cell_type": "code",
   "execution_count": 35,
   "id": "8ff22b41",
   "metadata": {},
   "outputs": [],
   "source": [
    "#subset in which Model and Cmb_Mpg only contains\n",
    "df_new08 = df_08[['Model','Cmb_MPG']]"
   ]
  },
  {
   "cell_type": "code",
   "execution_count": 36,
   "id": "dd4ef888",
   "metadata": {},
   "outputs": [],
   "source": [
    "#group the model and take mean of Cmb_Mpg\n",
    "df_new08 = df_new08.groupby('Model')['Cmb_MPG'].mean().reset_index()"
   ]
  },
  {
   "cell_type": "code",
   "execution_count": 37,
   "id": "93b8666b",
   "metadata": {},
   "outputs": [
    {
     "data": {
      "text/plain": [
       "(411, 2)"
      ]
     },
     "execution_count": 37,
     "metadata": {},
     "output_type": "execute_result"
    }
   ],
   "source": [
    "#shape\n",
    "df_new08.shape"
   ]
  },
  {
   "cell_type": "code",
   "execution_count": 53,
   "id": "fc4a3343",
   "metadata": {},
   "outputs": [],
   "source": [
    "#titlecase\n",
    "df_new08['Model'] = df_new08['Model'].str.title()"
   ]
  },
  {
   "cell_type": "code",
   "execution_count": 38,
   "id": "f2b5ef5a",
   "metadata": {},
   "outputs": [],
   "source": [
    "#subset in which Model and Cmb_Mpg only contains\n",
    "df_new18 = df_18[['Model','Cmb_MPG']]\n"
   ]
  },
  {
   "cell_type": "code",
   "execution_count": 40,
   "id": "d8fe1905",
   "metadata": {},
   "outputs": [],
   "source": [
    "#rename the 2018 record Cmb_MPG to Fuel_eco\n",
    "df_new18.rename(columns = {'Cmb_MPG':'Fuel_eco'},inplace=True)"
   ]
  },
  {
   "cell_type": "code",
   "execution_count": 41,
   "id": "2ff17690",
   "metadata": {},
   "outputs": [
    {
     "data": {
      "text/plain": [
       "(367, 2)"
      ]
     },
     "execution_count": 41,
     "metadata": {},
     "output_type": "execute_result"
    }
   ],
   "source": [
    "#group the model and take mean of Fuel_eco\n",
    "df_new18 =  df_new18.groupby('Model')['Fuel_eco'].mean().reset_index()\n",
    "df_new18.shape"
   ]
  },
  {
   "cell_type": "code",
   "execution_count": 54,
   "id": "232f9d75",
   "metadata": {},
   "outputs": [],
   "source": [
    "#change both record Model into titlecase to avoid confusion\n",
    "df_new18['Model'] = df_new18['Model'].str.title()"
   ]
  },
  {
   "cell_type": "code",
   "execution_count": 55,
   "id": "939d49a8",
   "metadata": {},
   "outputs": [],
   "source": [
    "#merge tha 2008 record and 2018 record and common column name is Model\n",
    "df_merge = pd.merge(df_new08 , df_new18 ,how='left',on='Model')"
   ]
  },
  {
   "cell_type": "code",
   "execution_count": 56,
   "id": "608a8833",
   "metadata": {},
   "outputs": [
    {
     "data": {
      "text/html": [
       "<div>\n",
       "<style scoped>\n",
       "    .dataframe tbody tr th:only-of-type {\n",
       "        vertical-align: middle;\n",
       "    }\n",
       "\n",
       "    .dataframe tbody tr th {\n",
       "        vertical-align: top;\n",
       "    }\n",
       "\n",
       "    .dataframe thead th {\n",
       "        text-align: right;\n",
       "    }\n",
       "</style>\n",
       "<table border=\"1\" class=\"dataframe\">\n",
       "  <thead>\n",
       "    <tr style=\"text-align: right;\">\n",
       "      <th></th>\n",
       "      <th>Model</th>\n",
       "      <th>Cmb_MPG</th>\n",
       "      <th>Fuel_eco</th>\n",
       "    </tr>\n",
       "  </thead>\n",
       "  <tbody>\n",
       "    <tr>\n",
       "      <th>0</th>\n",
       "      <td>Acura Mdx</td>\n",
       "      <td>17.000000</td>\n",
       "      <td>NaN</td>\n",
       "    </tr>\n",
       "    <tr>\n",
       "      <th>1</th>\n",
       "      <td>Acura Rdx</td>\n",
       "      <td>19.000000</td>\n",
       "      <td>22.5</td>\n",
       "    </tr>\n",
       "    <tr>\n",
       "      <th>2</th>\n",
       "      <td>Acura Rl</td>\n",
       "      <td>19.000000</td>\n",
       "      <td>NaN</td>\n",
       "    </tr>\n",
       "    <tr>\n",
       "      <th>3</th>\n",
       "      <td>Acura Tl</td>\n",
       "      <td>20.666667</td>\n",
       "      <td>NaN</td>\n",
       "    </tr>\n",
       "    <tr>\n",
       "      <th>4</th>\n",
       "      <td>Acura Tsx</td>\n",
       "      <td>22.500000</td>\n",
       "      <td>NaN</td>\n",
       "    </tr>\n",
       "    <tr>\n",
       "      <th>...</th>\n",
       "      <td>...</td>\n",
       "      <td>...</td>\n",
       "      <td>...</td>\n",
       "    </tr>\n",
       "    <tr>\n",
       "      <th>406</th>\n",
       "      <td>Volvo S80</td>\n",
       "      <td>18.500000</td>\n",
       "      <td>NaN</td>\n",
       "    </tr>\n",
       "    <tr>\n",
       "      <th>407</th>\n",
       "      <td>Volvo V50</td>\n",
       "      <td>22.076923</td>\n",
       "      <td>NaN</td>\n",
       "    </tr>\n",
       "    <tr>\n",
       "      <th>408</th>\n",
       "      <td>Volvo V70</td>\n",
       "      <td>19.000000</td>\n",
       "      <td>NaN</td>\n",
       "    </tr>\n",
       "    <tr>\n",
       "      <th>409</th>\n",
       "      <td>Volvo Xc 70</td>\n",
       "      <td>17.000000</td>\n",
       "      <td>NaN</td>\n",
       "    </tr>\n",
       "    <tr>\n",
       "      <th>410</th>\n",
       "      <td>Volvo Xc 90</td>\n",
       "      <td>15.666667</td>\n",
       "      <td>32.2</td>\n",
       "    </tr>\n",
       "  </tbody>\n",
       "</table>\n",
       "<p>411 rows × 3 columns</p>\n",
       "</div>"
      ],
      "text/plain": [
       "           Model    Cmb_MPG  Fuel_eco\n",
       "0      Acura Mdx  17.000000       NaN\n",
       "1      Acura Rdx  19.000000      22.5\n",
       "2       Acura Rl  19.000000       NaN\n",
       "3       Acura Tl  20.666667       NaN\n",
       "4      Acura Tsx  22.500000       NaN\n",
       "..           ...        ...       ...\n",
       "406    Volvo S80  18.500000       NaN\n",
       "407    Volvo V50  22.076923       NaN\n",
       "408    Volvo V70  19.000000       NaN\n",
       "409  Volvo Xc 70  17.000000       NaN\n",
       "410  Volvo Xc 90  15.666667      32.2\n",
       "\n",
       "[411 rows x 3 columns]"
      ]
     },
     "execution_count": 56,
     "metadata": {},
     "output_type": "execute_result"
    }
   ],
   "source": [
    "df_merge"
   ]
  },
  {
   "cell_type": "code",
   "execution_count": 57,
   "id": "f2727e45",
   "metadata": {},
   "outputs": [
    {
     "data": {
      "text/plain": [
       "Model         0\n",
       "Cmb_MPG       0\n",
       "Fuel_eco    334\n",
       "dtype: int64"
      ]
     },
     "execution_count": 57,
     "metadata": {},
     "output_type": "execute_result"
    }
   ],
   "source": [
    "#isnull\n",
    "df_merge.isnull().sum()"
   ]
  },
  {
   "cell_type": "code",
   "execution_count": 58,
   "id": "a1fd08ce",
   "metadata": {},
   "outputs": [],
   "source": [
    "#drop the null value colunms i.e) Models are not common that is deleted\n",
    "df_merge.dropna(how='any',inplace=True)"
   ]
  },
  {
   "cell_type": "code",
   "execution_count": 59,
   "id": "4b3cc5b7",
   "metadata": {},
   "outputs": [
    {
     "data": {
      "text/plain": [
       "count    77.000000\n",
       "mean     23.038794\n",
       "std       5.034280\n",
       "min      14.500000\n",
       "25%      19.545455\n",
       "50%      22.000000\n",
       "75%      26.000000\n",
       "max      33.000000\n",
       "Name: Fuel_eco, dtype: float64"
      ]
     },
     "execution_count": 59,
     "metadata": {},
     "output_type": "execute_result"
    }
   ],
   "source": [
    "#describe\n",
    "df_merge['Fuel_eco'].describe()"
   ]
  },
  {
   "cell_type": "code",
   "execution_count": 60,
   "id": "83ecf70d",
   "metadata": {},
   "outputs": [
    {
     "data": {
      "text/plain": [
       "count    77.000000\n",
       "mean     19.307605\n",
       "std       4.240718\n",
       "min      13.000000\n",
       "25%      15.666667\n",
       "50%      18.600000\n",
       "75%      21.571429\n",
       "max      31.500000\n",
       "Name: Cmb_MPG, dtype: float64"
      ]
     },
     "execution_count": 60,
     "metadata": {},
     "output_type": "execute_result"
    }
   ],
   "source": [
    "#describe\n",
    "#df_merge['Cmb_MPG'].describe()"
   ]
  },
  {
   "cell_type": "code",
   "execution_count": 61,
   "id": "3cb524af",
   "metadata": {},
   "outputs": [],
   "source": [
    "#sort\n",
    "df_merge = df_merge.sort_values('Fuel_eco',ascending=0)"
   ]
  },
  {
   "cell_type": "code",
   "execution_count": 62,
   "id": "1388de92",
   "metadata": {},
   "outputs": [
    {
     "data": {
      "text/html": [
       "<div>\n",
       "<style scoped>\n",
       "    .dataframe tbody tr th:only-of-type {\n",
       "        vertical-align: middle;\n",
       "    }\n",
       "\n",
       "    .dataframe tbody tr th {\n",
       "        vertical-align: top;\n",
       "    }\n",
       "\n",
       "    .dataframe thead th {\n",
       "        text-align: right;\n",
       "    }\n",
       "</style>\n",
       "<table border=\"1\" class=\"dataframe\">\n",
       "  <thead>\n",
       "    <tr style=\"text-align: right;\">\n",
       "      <th></th>\n",
       "      <th>Model</th>\n",
       "      <th>Cmb_MPG</th>\n",
       "      <th>Fuel_eco</th>\n",
       "    </tr>\n",
       "  </thead>\n",
       "  <tbody>\n",
       "    <tr>\n",
       "      <th>154</th>\n",
       "      <td>Honda Fit</td>\n",
       "      <td>30.000000</td>\n",
       "      <td>33.00</td>\n",
       "    </tr>\n",
       "    <tr>\n",
       "      <th>89</th>\n",
       "      <td>Chevrolet Malibu</td>\n",
       "      <td>22.333333</td>\n",
       "      <td>33.00</td>\n",
       "    </tr>\n",
       "    <tr>\n",
       "      <th>390</th>\n",
       "      <td>Toyota Yaris</td>\n",
       "      <td>31.500000</td>\n",
       "      <td>32.50</td>\n",
       "    </tr>\n",
       "    <tr>\n",
       "      <th>410</th>\n",
       "      <td>Volvo Xc 90</td>\n",
       "      <td>15.666667</td>\n",
       "      <td>32.20</td>\n",
       "    </tr>\n",
       "    <tr>\n",
       "      <th>190</th>\n",
       "      <td>Kia Rio</td>\n",
       "      <td>29.000000</td>\n",
       "      <td>32.00</td>\n",
       "    </tr>\n",
       "    <tr>\n",
       "      <th>...</th>\n",
       "      <td>...</td>\n",
       "      <td>...</td>\n",
       "      <td>...</td>\n",
       "    </tr>\n",
       "    <tr>\n",
       "      <th>306</th>\n",
       "      <td>Nissan Armada</td>\n",
       "      <td>13.000000</td>\n",
       "      <td>15.50</td>\n",
       "    </tr>\n",
       "    <tr>\n",
       "      <th>389</th>\n",
       "      <td>Toyota Tundra</td>\n",
       "      <td>15.400000</td>\n",
       "      <td>15.25</td>\n",
       "    </tr>\n",
       "    <tr>\n",
       "      <th>377</th>\n",
       "      <td>Toyota Land Cruiser</td>\n",
       "      <td>15.000000</td>\n",
       "      <td>15.00</td>\n",
       "    </tr>\n",
       "    <tr>\n",
       "      <th>215</th>\n",
       "      <td>Lexus Lx 570</td>\n",
       "      <td>14.000000</td>\n",
       "      <td>15.00</td>\n",
       "    </tr>\n",
       "    <tr>\n",
       "      <th>384</th>\n",
       "      <td>Toyota Sequoia</td>\n",
       "      <td>14.750000</td>\n",
       "      <td>14.50</td>\n",
       "    </tr>\n",
       "  </tbody>\n",
       "</table>\n",
       "<p>77 rows × 3 columns</p>\n",
       "</div>"
      ],
      "text/plain": [
       "                   Model    Cmb_MPG  Fuel_eco\n",
       "154            Honda Fit  30.000000     33.00\n",
       "89      Chevrolet Malibu  22.333333     33.00\n",
       "390         Toyota Yaris  31.500000     32.50\n",
       "410          Volvo Xc 90  15.666667     32.20\n",
       "190              Kia Rio  29.000000     32.00\n",
       "..                   ...        ...       ...\n",
       "306        Nissan Armada  13.000000     15.50\n",
       "389        Toyota Tundra  15.400000     15.25\n",
       "377  Toyota Land Cruiser  15.000000     15.00\n",
       "215         Lexus Lx 570  14.000000     15.00\n",
       "384       Toyota Sequoia  14.750000     14.50\n",
       "\n",
       "[77 rows x 3 columns]"
      ]
     },
     "execution_count": 62,
     "metadata": {},
     "output_type": "execute_result"
    }
   ],
   "source": [
    "df_merge"
   ]
  },
  {
   "cell_type": "markdown",
   "id": "2ce459cc",
   "metadata": {},
   "source": [
    "There are 77 Models are common in both record\n",
    "\n",
    "The most improved vehicle is Chevrolet Malibu whose increased MPG is 33-22 = 11(appr)"
   ]
  }
 ],
 "metadata": {
  "kernelspec": {
   "display_name": "Python 3",
   "language": "python",
   "name": "python3"
  },
  "language_info": {
   "codemirror_mode": {
    "name": "ipython",
    "version": 3
   },
   "file_extension": ".py",
   "mimetype": "text/x-python",
   "name": "python",
   "nbconvert_exporter": "python",
   "pygments_lexer": "ipython3",
   "version": "3.8.8"
  }
 },
 "nbformat": 4,
 "nbformat_minor": 5
}
